{
 "cells": [
  {
   "cell_type": "code",
   "execution_count": 76,
   "metadata": {},
   "outputs": [],
   "source": [
    "import numpy as np\n",
    "from sklearn.metrics.pairwise import cosine_similarity\n",
    "\n",
    "class cosine_emb:\n",
    "    \n",
    "    def __init__(self,path1, path2):\n",
    "        embs = np.load(path1)\n",
    "        embs = embs.reshape(embs.shape[0],embs.shape[2])\n",
    "        labels = np.load(path2)\n",
    "        print(\"Cosine similarity Initialized\")\n",
    "\n",
    "       \n",
    "    def sim(self, embd):\n",
    "        li = []\n",
    "        for (i,emb) in enumerate(embs):\n",
    "            li.append(cosine_similarity(emb,embd))\n",
    "        name = labels[np.argmax(li)]\n",
    "        print(name)\n",
    "        return name\n"
   ]
  },
  {
   "cell_type": "code",
   "execution_count": 77,
   "metadata": {},
   "outputs": [],
   "source": [
    "import os\n",
    "os.chdir(\"../../RT_facenet/numpy_save/\")"
   ]
  },
  {
   "cell_type": "code",
   "execution_count": 78,
   "metadata": {},
   "outputs": [
    {
     "name": "stdout",
     "output_type": "stream",
     "text": [
      "Cosine similarity Initialized\n"
     ]
    }
   ],
   "source": [
    "cos = cosine_emb(\"EMB_ORIG.npy\",\"./NAM_ORIG.npy\")"
   ]
  },
  {
   "cell_type": "code",
   "execution_count": 79,
   "metadata": {},
   "outputs": [
    {
     "name": "stdout",
     "output_type": "stream",
     "text": [
      "[array([[0.01585924]]), array([[-0.01956909]]), array([[-0.02131804]]), array([[-0.01973932]]), array([[-0.00941583]]), array([[0.04172552]]), array([[0.01349525]]), array([[-0.03022954]]), array([[0.06641966]]), array([[0.04750243]]), array([[0.04610085]]), array([[-0.00249173]]), array([[0.03350566]]), array([[0.0008067]]), array([[0.01276041]]), array([[0.03607747]]), array([[0.02355674]]), array([[-0.06671684]]), array([[-0.07330445]]), array([[-0.03764059]]), array([[0.03080187]]), array([[-0.01689931]]), array([[0.01140423]]), array([[0.01158036]]), array([[0.01815895]]), array([[0.01756507]]), array([[-0.0348905]]), array([[-0.01354639]]), array([[-0.00988318]]), array([[0.01864245]]), array([[0.04007096]]), array([[-0.03287016]]), array([[0.06990038]]), array([[0.06814197]]), array([[0.07317163]]), array([[0.07858813]]), array([[-0.00368661]]), array([[0.02196213]]), array([[0.02442113]]), array([[-0.0016813]]), array([[0.01046282]]), array([[0.0094538]]), array([[0.01719224]]), array([[0.03801313]]), array([[0.05575513]]), array([[0.04778781]]), array([[0.04483176]]), array([[0.01849338]]), array([[0.01035671]]), array([[-0.0051232]]), array([[-0.00621794]]), array([[0.00171171]]), array([[0.03694442]]), array([[-0.01365833]]), array([[0.03374858]]), array([[-0.00539421]]), array([[0.06578987]]), array([[0.05517187]]), array([[0.0489537]])]\n",
      "0.07858813422306882\n",
      "35\n",
      "Rohit_RN\n"
     ]
    }
   ],
   "source": [
    "name = cos.sim(np.random.randn(1,512))"
   ]
  },
  {
   "cell_type": "code",
   "execution_count": 81,
   "metadata": {},
   "outputs": [
    {
     "data": {
      "text/plain": [
       "array(['Manjunath_Hiremath', 'Manjunath_Hiremath', 'Manjunath_Hiremath',\n",
       "       'Manjunath_Hiremath', 'Manjunath_Hiremath', 'Ravikiran_Basuthkar',\n",
       "       'Ravikiran_Basuthkar', 'Ravikiran_Basuthkar',\n",
       "       'Ravikiran_Basuthkar', 'Ravikiran_Basuthkar',\n",
       "       'Ravikiran_Basuthkar', 'Ravikiran_Basuthkar', 'Soumaliya_Boral',\n",
       "       'Soumaliya_Boral', 'Soumaliya_Boral', 'Soumaliya_Boral',\n",
       "       'Soumaliya_Boral', 'Sudheep_Mandava', 'Sudheep_Mandava',\n",
       "       'Sudheep_Mandava', 'Ramkrishna_Bhandari', 'Ramkrishna_Bhandari',\n",
       "       'Ramkrishna_Bhandari', 'Ramkrishna_Bhandari',\n",
       "       'Ramkrishna_Bhandari', 'Ramkrishna_Bhandari',\n",
       "       'Saikrishna_Dyavarasetti', 'Saikrishna_Dyavarasetti',\n",
       "       'Saikrishna_Dyavarasetti', 'Saikrishna_Dyavarasetti',\n",
       "       'Saikrishna_Dyavarasetti', 'Saikrishna_Dyavarasetti', 'Rohit_RN',\n",
       "       'Rohit_RN', 'Rohit_RN', 'Rohit_RN', 'Sandipan_Basak',\n",
       "       'Sandipan_Basak', 'Sandipan_Basak', 'Sandipan_Basak',\n",
       "       'Sandipan_Basak', 'Sandipan_Basak', 'Ayushee_Agarwal',\n",
       "       'Ayushee_Agarwal', 'Ayushee_Agarwal', 'Ayushee_Agarwal',\n",
       "       'Ayushee_Agarwal', 'Ayushee_Agarwal', 'Nimisha_Gupta',\n",
       "       'Nimisha_Gupta', 'Nimisha_Gupta', 'Nimisha_Gupta', 'Santosh_Vasa',\n",
       "       'Santosh_Vasa', 'Santosh_Vasa', 'Santosh_Vasa', 'Santosh_Vasa',\n",
       "       'Santosh_Vasa', 'Santosh_Vasa'], dtype='<U23')"
      ]
     },
     "execution_count": 81,
     "metadata": {},
     "output_type": "execute_result"
    }
   ],
   "source": []
  },
  {
   "cell_type": "code",
   "execution_count": 17,
   "metadata": {},
   "outputs": [],
   "source": [
    "embs = np.load(\"./EMB_ORIG.npy\")"
   ]
  },
  {
   "cell_type": "code",
   "execution_count": 39,
   "metadata": {},
   "outputs": [
    {
     "data": {
      "text/plain": [
       "array([[ 0.01757171,  0.02295616, -0.00018014, ..., -0.01769582,\n",
       "        -0.01014211, -0.03551993],\n",
       "       [ 0.09539081,  0.03645932, -0.03529405, ..., -0.03370366,\n",
       "         0.01079146, -0.08258908],\n",
       "       [ 0.03034967,  0.04551472, -0.00983008, ..., -0.06647292,\n",
       "         0.03119642, -0.04759531],\n",
       "       ...,\n",
       "       [ 0.07377629, -0.05075286, -0.0285414 , ..., -0.06315115,\n",
       "        -0.12749594, -0.01498024],\n",
       "       [ 0.05322857, -0.07225312, -0.04411272, ..., -0.04756093,\n",
       "        -0.11637697, -0.01996197],\n",
       "       [ 0.07722774, -0.05787366, -0.04508239, ..., -0.03622196,\n",
       "        -0.09256633, -0.03281961]], dtype=float32)"
      ]
     },
     "execution_count": 39,
     "metadata": {},
     "output_type": "execute_result"
    }
   ],
   "source": [
    "embs.reshape(59,512)"
   ]
  },
  {
   "cell_type": "code",
   "execution_count": 20,
   "metadata": {},
   "outputs": [],
   "source": [
    "labels = np.load(\"./NAM_ORIG.npy\")"
   ]
  },
  {
   "cell_type": "code",
   "execution_count": 38,
   "metadata": {},
   "outputs": [
    {
     "data": {
      "text/plain": [
       "59"
      ]
     },
     "execution_count": 38,
     "metadata": {},
     "output_type": "execute_result"
    }
   ],
   "source": [
    "embs.shape[0]"
   ]
  },
  {
   "cell_type": "code",
   "execution_count": 44,
   "metadata": {},
   "outputs": [
    {
     "name": "stdout",
     "output_type": "stream",
     "text": [
      "(59, 1, 512)\n"
     ]
    },
    {
     "ename": "ValueError",
     "evalue": "cannot reshape array of size 1 into shape (512,)",
     "output_type": "error",
     "traceback": [
      "\u001b[0;31m---------------------------------------------------------------------------\u001b[0m",
      "\u001b[0;31mAttributeError\u001b[0m                            Traceback (most recent call last)",
      "\u001b[0;32m~/.local/lib/python3.5/site-packages/numpy/core/fromnumeric.py\u001b[0m in \u001b[0;36m_wrapfunc\u001b[0;34m(obj, method, *args, **kwds)\u001b[0m\n\u001b[1;32m     55\u001b[0m     \u001b[0;32mtry\u001b[0m\u001b[0;34m:\u001b[0m\u001b[0;34m\u001b[0m\u001b[0m\n\u001b[0;32m---> 56\u001b[0;31m         \u001b[0;32mreturn\u001b[0m \u001b[0mgetattr\u001b[0m\u001b[0;34m(\u001b[0m\u001b[0mobj\u001b[0m\u001b[0;34m,\u001b[0m \u001b[0mmethod\u001b[0m\u001b[0;34m)\u001b[0m\u001b[0;34m(\u001b[0m\u001b[0;34m*\u001b[0m\u001b[0margs\u001b[0m\u001b[0;34m,\u001b[0m \u001b[0;34m**\u001b[0m\u001b[0mkwds\u001b[0m\u001b[0;34m)\u001b[0m\u001b[0;34m\u001b[0m\u001b[0m\n\u001b[0m\u001b[1;32m     57\u001b[0m \u001b[0;34m\u001b[0m\u001b[0m\n",
      "\u001b[0;31mAttributeError\u001b[0m: 'int' object has no attribute 'reshape'",
      "\nDuring handling of the above exception, another exception occurred:\n",
      "\u001b[0;31mValueError\u001b[0m                                Traceback (most recent call last)",
      "\u001b[0;32m<ipython-input-44-d0c7a125aa10>\u001b[0m in \u001b[0;36m<module>\u001b[0;34m\u001b[0m\n\u001b[1;32m      1\u001b[0m \u001b[0membs\u001b[0m \u001b[0;34m=\u001b[0m \u001b[0mnp\u001b[0m\u001b[0;34m.\u001b[0m\u001b[0mload\u001b[0m\u001b[0;34m(\u001b[0m\u001b[0;34m'./EMB_ORIG.npy'\u001b[0m\u001b[0;34m)\u001b[0m\u001b[0;34m\u001b[0m\u001b[0m\n\u001b[1;32m      2\u001b[0m \u001b[0mprint\u001b[0m\u001b[0;34m(\u001b[0m\u001b[0membs\u001b[0m\u001b[0;34m.\u001b[0m\u001b[0mshape\u001b[0m\u001b[0;34m)\u001b[0m\u001b[0;34m\u001b[0m\u001b[0m\n\u001b[0;32m----> 3\u001b[0;31m \u001b[0membs\u001b[0m \u001b[0;34m=\u001b[0m \u001b[0mnp\u001b[0m\u001b[0;34m.\u001b[0m\u001b[0mreshape\u001b[0m\u001b[0;34m(\u001b[0m\u001b[0;36m59\u001b[0m\u001b[0;34m,\u001b[0m\u001b[0;36m512\u001b[0m\u001b[0;34m)\u001b[0m\u001b[0;34m\u001b[0m\u001b[0m\n\u001b[0m\u001b[1;32m      4\u001b[0m \u001b[0;31m#embs = np.reshape(embs.shape[0],embs.shape[2])\u001b[0m\u001b[0;34m\u001b[0m\u001b[0;34m\u001b[0m\u001b[0m\n",
      "\u001b[0;32m~/.local/lib/python3.5/site-packages/numpy/core/fromnumeric.py\u001b[0m in \u001b[0;36mreshape\u001b[0;34m(a, newshape, order)\u001b[0m\n\u001b[1;32m    290\u001b[0m            [5, 6]])\n\u001b[1;32m    291\u001b[0m     \"\"\"\n\u001b[0;32m--> 292\u001b[0;31m     \u001b[0;32mreturn\u001b[0m \u001b[0m_wrapfunc\u001b[0m\u001b[0;34m(\u001b[0m\u001b[0ma\u001b[0m\u001b[0;34m,\u001b[0m \u001b[0;34m'reshape'\u001b[0m\u001b[0;34m,\u001b[0m \u001b[0mnewshape\u001b[0m\u001b[0;34m,\u001b[0m \u001b[0morder\u001b[0m\u001b[0;34m=\u001b[0m\u001b[0morder\u001b[0m\u001b[0;34m)\u001b[0m\u001b[0;34m\u001b[0m\u001b[0m\n\u001b[0m\u001b[1;32m    293\u001b[0m \u001b[0;34m\u001b[0m\u001b[0m\n\u001b[1;32m    294\u001b[0m \u001b[0;34m\u001b[0m\u001b[0m\n",
      "\u001b[0;32m~/.local/lib/python3.5/site-packages/numpy/core/fromnumeric.py\u001b[0m in \u001b[0;36m_wrapfunc\u001b[0;34m(obj, method, *args, **kwds)\u001b[0m\n\u001b[1;32m     64\u001b[0m     \u001b[0;31m# a downstream library like 'pandas'.\u001b[0m\u001b[0;34m\u001b[0m\u001b[0;34m\u001b[0m\u001b[0m\n\u001b[1;32m     65\u001b[0m     \u001b[0;32mexcept\u001b[0m \u001b[0;34m(\u001b[0m\u001b[0mAttributeError\u001b[0m\u001b[0;34m,\u001b[0m \u001b[0mTypeError\u001b[0m\u001b[0;34m)\u001b[0m\u001b[0;34m:\u001b[0m\u001b[0;34m\u001b[0m\u001b[0m\n\u001b[0;32m---> 66\u001b[0;31m         \u001b[0;32mreturn\u001b[0m \u001b[0m_wrapit\u001b[0m\u001b[0;34m(\u001b[0m\u001b[0mobj\u001b[0m\u001b[0;34m,\u001b[0m \u001b[0mmethod\u001b[0m\u001b[0;34m,\u001b[0m \u001b[0;34m*\u001b[0m\u001b[0margs\u001b[0m\u001b[0;34m,\u001b[0m \u001b[0;34m**\u001b[0m\u001b[0mkwds\u001b[0m\u001b[0;34m)\u001b[0m\u001b[0;34m\u001b[0m\u001b[0m\n\u001b[0m\u001b[1;32m     67\u001b[0m \u001b[0;34m\u001b[0m\u001b[0m\n\u001b[1;32m     68\u001b[0m \u001b[0;34m\u001b[0m\u001b[0m\n",
      "\u001b[0;32m~/.local/lib/python3.5/site-packages/numpy/core/fromnumeric.py\u001b[0m in \u001b[0;36m_wrapit\u001b[0;34m(obj, method, *args, **kwds)\u001b[0m\n\u001b[1;32m     44\u001b[0m     \u001b[0;32mexcept\u001b[0m \u001b[0mAttributeError\u001b[0m\u001b[0;34m:\u001b[0m\u001b[0;34m\u001b[0m\u001b[0m\n\u001b[1;32m     45\u001b[0m         \u001b[0mwrap\u001b[0m \u001b[0;34m=\u001b[0m \u001b[0;32mNone\u001b[0m\u001b[0;34m\u001b[0m\u001b[0m\n\u001b[0;32m---> 46\u001b[0;31m     \u001b[0mresult\u001b[0m \u001b[0;34m=\u001b[0m \u001b[0mgetattr\u001b[0m\u001b[0;34m(\u001b[0m\u001b[0masarray\u001b[0m\u001b[0;34m(\u001b[0m\u001b[0mobj\u001b[0m\u001b[0;34m)\u001b[0m\u001b[0;34m,\u001b[0m \u001b[0mmethod\u001b[0m\u001b[0;34m)\u001b[0m\u001b[0;34m(\u001b[0m\u001b[0;34m*\u001b[0m\u001b[0margs\u001b[0m\u001b[0;34m,\u001b[0m \u001b[0;34m**\u001b[0m\u001b[0mkwds\u001b[0m\u001b[0;34m)\u001b[0m\u001b[0;34m\u001b[0m\u001b[0m\n\u001b[0m\u001b[1;32m     47\u001b[0m     \u001b[0;32mif\u001b[0m \u001b[0mwrap\u001b[0m\u001b[0;34m:\u001b[0m\u001b[0;34m\u001b[0m\u001b[0m\n\u001b[1;32m     48\u001b[0m         \u001b[0;32mif\u001b[0m \u001b[0;32mnot\u001b[0m \u001b[0misinstance\u001b[0m\u001b[0;34m(\u001b[0m\u001b[0mresult\u001b[0m\u001b[0;34m,\u001b[0m \u001b[0mmu\u001b[0m\u001b[0;34m.\u001b[0m\u001b[0mndarray\u001b[0m\u001b[0;34m)\u001b[0m\u001b[0;34m:\u001b[0m\u001b[0;34m\u001b[0m\u001b[0m\n",
      "\u001b[0;31mValueError\u001b[0m: cannot reshape array of size 1 into shape (512,)"
     ]
    }
   ],
   "source": [
    "embs = np.load('./EMB_ORIG.npy')\n",
    "print(embs.shape)\n",
    "embs = np.reshape(59,512)\n",
    "#embs = np.reshape(embs.shape[0],embs.shape[2])"
   ]
  },
  {
   "cell_type": "code",
   "execution_count": null,
   "metadata": {},
   "outputs": [],
   "source": []
  }
 ],
 "metadata": {
  "kernelspec": {
   "display_name": "Python 3",
   "language": "python",
   "name": "python3"
  },
  "language_info": {
   "codemirror_mode": {
    "name": "ipython",
    "version": 3
   },
   "file_extension": ".py",
   "mimetype": "text/x-python",
   "name": "python",
   "nbconvert_exporter": "python",
   "pygments_lexer": "ipython3",
   "version": "3.5.2"
  },
  "toc": {
   "base_numbering": 1,
   "nav_menu": {},
   "number_sections": true,
   "sideBar": true,
   "skip_h1_title": false,
   "title_cell": "Table of Contents",
   "title_sidebar": "Contents",
   "toc_cell": false,
   "toc_position": {},
   "toc_section_display": true,
   "toc_window_display": false
  },
  "varInspector": {
   "cols": {
    "lenName": 16,
    "lenType": 16,
    "lenVar": 40
   },
   "kernels_config": {
    "python": {
     "delete_cmd_postfix": "",
     "delete_cmd_prefix": "del ",
     "library": "var_list.py",
     "varRefreshCmd": "print(var_dic_list())"
    },
    "r": {
     "delete_cmd_postfix": ") ",
     "delete_cmd_prefix": "rm(",
     "library": "var_list.r",
     "varRefreshCmd": "cat(var_dic_list()) "
    }
   },
   "types_to_exclude": [
    "module",
    "function",
    "builtin_function_or_method",
    "instance",
    "_Feature"
   ],
   "window_display": false
  }
 },
 "nbformat": 4,
 "nbformat_minor": 2
}

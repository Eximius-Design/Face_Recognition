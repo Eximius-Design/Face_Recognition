{
 "cells": [
  {
   "cell_type": "code",
   "execution_count": 4,
   "metadata": {},
   "outputs": [],
   "source": [
    "import os\n",
    "import cv2\n",
    "import time\n",
    "import pickle\n",
    "import numpy as np\n",
    "import tensorflow as tf\n",
    "import matplotlib.pyplot as plt\n",
    "from sklearn.svm import SVC\n",
    "from scipy import misc\n",
    "from imutils import paths\n",
    "from Detection import Detection\n",
    "from Recognition import Recognition\n",
    "import align_dataset\n",
    "import preprocess\n",
    "import pandas as pd\n",
    "import gen_classifier\n",
    "import classify_image"
   ]
  },
  {
   "cell_type": "code",
   "execution_count": 5,
   "metadata": {},
   "outputs": [],
   "source": [
    "#Input and Output paths\n",
    "train_raw_path = \"/home/santoshv/RT_facenet/Dataset/AI_team_augmented/\"\n",
    "train_aligned_path = \"/home/santoshv/RT_facenet/Dataset/AI_team_augmented/\"\n",
    "output_classifier_path = \"../util/EximiusAI_1.pkl\"\n",
    "test_image_input_path = \"/home/santoshv/facenet/data/images/test_raw/ravikiran/Capture+_2019-02-19-16-37-01.png\"\n",
    "augmentation = False\n",
    "#Not yet Implemented.\n",
    "if augmentation == True:\n",
    "    augmentation_folder_path = \"../Dataset/augmentation_folder/\""
   ]
  },
  {
   "cell_type": "code",
   "execution_count": 6,
   "metadata": {},
   "outputs": [],
   "source": [
    "#Path for the detection and recognition pb files\n",
    "Detection_model_path = \"../Models/Detection_mtcnn.pb\"\n",
    "Recognition_model_path = \"../Models/Recognition_facenet.pb\""
   ]
  },
  {
   "cell_type": "code",
   "execution_count": 7,
   "metadata": {},
   "outputs": [
    {
     "name": "stdout",
     "output_type": "stream",
     "text": [
      "Detection Model Graph Initialized\n",
      "Recognition Model Graph Initialized\n"
     ]
    }
   ],
   "source": [
    "#Instances of detection and recognition are being created.\n",
    "#Instances are created to avoid loading the graphs and sessions again and again for every frame.\n",
    "detection = Detection(Detection_model_path)\n",
    "recognition = Recognition(Recognition_model_path)\n"
   ]
  },
  {
   "cell_type": "code",
   "execution_count": 8,
   "metadata": {},
   "outputs": [],
   "source": [
    "#creating the identity directories inside the output folder\n",
    "#cropping faces using MTCNN face detection model from the model path \n",
    "#writing the respective faces in the directories created\n",
    "#this function needs the paths of raw training images folder, output aligned folder and detection model path\n",
    "#We suggest to manually remove noise from the aligned folder as MTCNN can detect some false positives which will\n",
    "#effect recognition performance.Making sure we send right data to the model will leave us with good accuracy.\n",
    "align_dataset.align_data(train_raw_path,train_aligned_path,detection)"
   ]
  },
  {
   "cell_type": "code",
   "execution_count": 9,
   "metadata": {},
   "outputs": [
    {
     "data": {
      "application/vnd.jupyter.widget-view+json": {
       "model_id": "582657e8fee441108b65aa67d4f6c949",
       "version_major": 2,
       "version_minor": 0
      },
      "text/plain": [
       "HBox(children=(IntProgress(value=0, max=15390), HTML(value='')))"
      ]
     },
     "metadata": {},
     "output_type": "display_data"
    },
    {
     "name": "stdout",
     "output_type": "stream",
     "text": [
      "\n"
     ]
    },
    {
     "name": "stderr",
     "output_type": "stream",
     "text": [
      "/home/santoshv/.local/lib/python3.5/site-packages/sklearn/linear_model/stochastic_gradient.py:183: FutureWarning: max_iter and tol parameters have been added in SGDClassifier in 0.19. If max_iter is set but tol is left unset, the default value for tol in 0.19 and 0.20 will be None (which is equivalent to -infinity, so it has no effect) but will change in 0.21 to 1e-3. Specify tol to silence this warning.\n",
      "  FutureWarning)\n"
     ]
    },
    {
     "name": "stdout",
     "output_type": "stream",
     "text": [
      "SGDClassifier(alpha=0.0001, average=False, class_weight=None,\n",
      "       early_stopping=False, epsilon=0.1, eta0=0.0, fit_intercept=True,\n",
      "       l1_ratio=0.15, learning_rate='optimal', loss='log', max_iter=5,\n",
      "       n_iter=None, n_iter_no_change=5, n_jobs=None, penalty='l2',\n",
      "       power_t=0.5, random_state=None, shuffle=True, tol=None,\n",
      "       validation_fraction=0.1, verbose=0, warm_start=False) ['Manjunath', 'Santosh', 'Nimisha', 'Rohit', 'Sandipan', 'SaiKrishna', 'Sudheep', 'Soumallya', 'Ravi', 'Ayushee', 'Ramakrishna']\n"
     ]
    }
   ],
   "source": [
    "#Getting the features of the faces stored at train_aligned_path in the form of 512-D embeddings\n",
    "#We are using the FaceNet Inception-Resnet architecture to generate the embeddings which uses softmax loss\n",
    "#The model is not the same that was mentioned in facenet paper, as it has different neural structure and loss\n",
    "#Generated embeddings and the labels are given to a support vector classfier \n",
    "#The trained model is stored in the file path given to the function\n",
    "gen_classifier.rec_gen_classifier(train_aligned_path , recognition ,output_classifier_path)"
   ]
  },
  {
   "cell_type": "code",
   "execution_count": 11,
   "metadata": {},
   "outputs": [
    {
     "name": "stdout",
     "output_type": "stream",
     "text": [
      "['Ravi']     [[1.54047751e-03 3.02932508e-04 8.77148801e-04 1.12708062e-03\n",
      "  9.23990105e-01 1.70262254e-02 1.05274972e-02 2.76773087e-02\n",
      "  5.13180340e-03 1.16344876e-02 1.64933490e-04]]\n",
      "0.923990104666959\n",
      "4\n"
     ]
    }
   ],
   "source": [
    "#This function takes an input image\n",
    "#crops the faces out\n",
    "#gets the embedding vector of each face\n",
    "#loads the SVC model from the classifier pickle file\n",
    "#predicts the identity \n",
    "classify_image.classify_image(output_classifier_path , detection , recognition ,test_image_input_path )"
   ]
  },
  {
   "cell_type": "code",
   "execution_count": 8,
   "metadata": {},
   "outputs": [],
   "source": [
    "with open(output_classifier_path, 'rb') as infile:\n",
    "        model ,class_names = pickle.load(infile)"
   ]
  }
 ],
 "metadata": {
  "kernelspec": {
   "display_name": "Python 3",
   "language": "python",
   "name": "python3"
  },
  "language_info": {
   "codemirror_mode": {
    "name": "ipython",
    "version": 3
   },
   "file_extension": ".py",
   "mimetype": "text/x-python",
   "name": "python",
   "nbconvert_exporter": "python",
   "pygments_lexer": "ipython3",
   "version": "3.5.2"
  },
  "toc": {
   "base_numbering": 1,
   "nav_menu": {},
   "number_sections": true,
   "sideBar": true,
   "skip_h1_title": false,
   "title_cell": "Table of Contents",
   "title_sidebar": "Contents",
   "toc_cell": false,
   "toc_position": {},
   "toc_section_display": true,
   "toc_window_display": false
  },
  "varInspector": {
   "cols": {
    "lenName": 16,
    "lenType": 16,
    "lenVar": 40
   },
   "kernels_config": {
    "python": {
     "delete_cmd_postfix": "",
     "delete_cmd_prefix": "del ",
     "library": "var_list.py",
     "varRefreshCmd": "print(var_dic_list())"
    },
    "r": {
     "delete_cmd_postfix": ") ",
     "delete_cmd_prefix": "rm(",
     "library": "var_list.r",
     "varRefreshCmd": "cat(var_dic_list()) "
    }
   },
   "types_to_exclude": [
    "module",
    "function",
    "builtin_function_or_method",
    "instance",
    "_Feature"
   ],
   "window_display": false
  }
 },
 "nbformat": 4,
 "nbformat_minor": 2
}

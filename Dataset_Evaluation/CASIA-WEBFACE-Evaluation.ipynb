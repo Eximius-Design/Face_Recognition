{
 "cells": [
  {
   "cell_type": "code",
   "execution_count": null,
   "metadata": {},
   "outputs": [],
   "source": [
    "import tensorflow as tf\n",
    "from imutils import paths\n",
    "import matplotlib.pyplot as plt\n",
    "import numpy as np\n",
    "import cv2\n",
    "import os\n",
    "import random"
   ]
  },
  {
   "cell_type": "code",
   "execution_count": null,
   "metadata": {},
   "outputs": [],
   "source": [
    "imagePaths = list(paths.list_images(\"../small-casia/\"))\n",
    "names = []\n",
    "for imagePath in imagePaths:\n",
    "    names.append(imagePath.split(\"/\")[-2])\n",
    "print(set(names))\n",
    "names = set(names)"
   ]
  },
  {
   "cell_type": "code",
   "execution_count": null,
   "metadata": {},
   "outputs": [],
   "source": [
    "print(len(imagePaths))\n",
    "print(len(names))"
   ]
  },
  {
   "cell_type": "code",
   "execution_count": null,
   "metadata": {},
   "outputs": [],
   "source": [
    "os.mkdir(\"../sm_train_1\")\n",
    "os.mkdir(\"../sm_test_1\")"
   ]
  },
  {
   "cell_type": "code",
   "execution_count": null,
   "metadata": {},
   "outputs": [],
   "source": [
    "for name in names:\n",
    "    path = \"../small-casia/\"+name\n",
    "    write_path = \"../sm_train_1/\"+str(name)\n",
    "    write_path2 = \"../sm_test_1/\"+str(name)\n",
    "    os.mkdir(write_path)\n",
    "    os.mkdir(write_path2)\n",
    "    pathimages = list(paths.list_images(path))\n",
    "    size = len(pathimages)\n",
    "    train_size = int(0.7 * size)\n",
    "    test_size = size - train_size\n",
    "    print(\"Train Size for\",name,train_size)\n",
    "    print(\"Test Size for\",name, test_size)\n",
    "    a = random.sample(range(0,size),size)\n",
    "    for i in range(0,size):\n",
    "        if i < train_size:\n",
    "            path_name = write_path+\"/\"+str(i)+\".jpg\"\n",
    "            img = cv2.imread(pathimages[a[i]])\n",
    "            print(pathimages[a[i]],\"at\",path_name)\n",
    "            cv2.imwrite(path_name,img)\n",
    "        else:\n",
    "            path_name = write_path2+\"/\"+str(i)+\".jpg\"\n",
    "            img = cv2.imread(pathimages[a[i]])\n",
    "            print(pathimages[a[i]],\"at\",path_name)\n",
    "            cv2.imwrite(path_name,img)"
   ]
  },
  {
   "cell_type": "code",
   "execution_count": null,
   "metadata": {},
   "outputs": [],
   "source": [
    "imagePaths = list(paths.list_images(\"../sm_train_1/\"))"
   ]
  },
  {
   "cell_type": "code",
   "execution_count": null,
   "metadata": {},
   "outputs": [],
   "source": [
    "len(imagePaths)"
   ]
  },
  {
   "cell_type": "code",
   "execution_count": null,
   "metadata": {},
   "outputs": [],
   "source": [
    "from src import Detection\n",
    "from src import Recognition\n",
    "from src import preprocess"
   ]
  },
  {
   "cell_type": "code",
   "execution_count": null,
   "metadata": {},
   "outputs": [],
   "source": [
    "rec = Recognition.Recognition(\"/home/santoshv/RT_facenet/Models/Recognition_facenet.pb\")\n",
    "dec = Detection.Detection(\"/home/santoshv/RT_facenet/Models/Detection_mtcnn.pb\")"
   ]
  },
  {
   "cell_type": "code",
   "execution_count": null,
   "metadata": {},
   "outputs": [],
   "source": [
    "nam = []\n",
    "emb = []\n",
    "for (i,imagePath) in enumerate(imagePaths):\n",
    "    name = imagePath.split(\"/\")[-2]\n",
    "    image = cv2.imread(imagePath)\n",
    "    bbox,conf,landmarks = dec.detect(image)\n",
    "    for box in bbox:\n",
    "        box = box.astype('int32')\n",
    "        face = image[box[0]:box[2] , box[1]:box[3]] \n",
    "        if face.shape[0] !=0 and face.shape[1] !=0 and face.shape[2] !=0:\n",
    "            face = preprocess.prewhiten(face)\n",
    "            embedding = rec.recognize(face)\n",
    "            nam.append(name)\n",
    "            emb.append(embedding)\n",
    "            print(i)"
   ]
  },
  {
   "cell_type": "code",
   "execution_count": null,
   "metadata": {},
   "outputs": [],
   "source": [
    "import pickle\n",
    "from sklearn.svm import SVC\n",
    "emb_arrays = np.array(emb).reshape(np.array(emb).shape[0], np.array(emb).shape[2])\n",
    "labels = np.array(nam)\n",
    "classnames = list(set(labels))\n",
    "model = SVC(kernel='linear', probability=True)\n",
    "model.fit(emb_arrays, labels)\n",
    "print(model,classnames)\n",
    "with open(\"/home/santoshv/RT_facenet/util/classifier_3.pkl\", 'wb') as outfile:\n",
    "    pickle.dump((model,classnames), outfile)"
   ]
  },
  {
   "cell_type": "code",
   "execution_count": null,
   "metadata": {},
   "outputs": [],
   "source": [
    "imagePaths = list(paths.list_images(\"../sm_test_1/\"))"
   ]
  },
  {
   "cell_type": "code",
   "execution_count": null,
   "metadata": {},
   "outputs": [],
   "source": [
    "len(imagePaths)"
   ]
  },
  {
   "cell_type": "code",
   "execution_count": null,
   "metadata": {},
   "outputs": [],
   "source": [
    "import pickle\n",
    "with open(\"/home/santoshv/RT_facenet/util/classifier_3.pkl\", 'rb') as infile:\n",
    "    model,class_names = pickle.load(infile)"
   ]
  },
  {
   "cell_type": "code",
   "execution_count": null,
   "metadata": {},
   "outputs": [],
   "source": [
    "model"
   ]
  },
  {
   "cell_type": "code",
   "execution_count": null,
   "metadata": {},
   "outputs": [],
   "source": [
    "correct = 0\n",
    "wrong = 0\n",
    "for (i,imagePath) in enumerate(imagePaths):\n",
    "    img = cv2.imread(imagePath)\n",
    "    img = cv2.cvtColor(img , cv2.COLOR_BGR2RGB)\n",
    "    imgp = preprocess.prewhiten(img)\n",
    "    embd = rec.recognize(imgp)\n",
    "    original_name = imagePath.split(\"/\")[-2]\n",
    "    print(\"Original Name:\",original_name)\n",
    "    predict_name = model.predict(embd)\n",
    "    print(\"Predicted Name:\",predict_name[0])\n",
    "    if (predict_name == original_name):\n",
    "        correct = correct+1\n",
    "        print(\"correct\", correct)\n",
    "    else:\n",
    "        wrong = wrong+1\n",
    "        plt.imshow(img)\n",
    "        plt.show()\n",
    "        print(\"Wrong\",wrong)"
   ]
  },
  {
   "cell_type": "code",
   "execution_count": null,
   "metadata": {},
   "outputs": [],
   "source": []
  }
 ],
 "metadata": {
  "kernelspec": {
   "display_name": "Python 3",
   "language": "python",
   "name": "python3"
  },
  "language_info": {
   "codemirror_mode": {
    "name": "ipython",
    "version": 3
   },
   "file_extension": ".py",
   "mimetype": "text/x-python",
   "name": "python",
   "nbconvert_exporter": "python",
   "pygments_lexer": "ipython3",
   "version": "3.5.2"
  }
 },
 "nbformat": 4,
 "nbformat_minor": 2
}
